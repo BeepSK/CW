{
 "cells": [
  {
   "cell_type": "markdown",
   "id": "21f50aed-8747-4170-94d2-1f08583866c6",
   "metadata": {},
   "source": [
    "Bob is bored during his physics lessons so he's built himself a toy box to help pass the time. The box is special because it has the ability to change gravity.\n",
    "\n",
    "There are some columns of toy cubes in the box arranged in a line. The i-th column contains a_i cubes. At first, the gravity in the box is pulling the cubes downwards. When Bob switches the gravity, it begins to pull all the cubes to a certain side of the box, d, which can be either 'L' or 'R' (left or right). Below is an example of what a box of cubes might look like before and after switching gravity.\n",
    "\n",
    "+---+                                       +---+\n",
    "|   |                                       |   |\n",
    "+---+                                       +---+\n",
    "+---++---+     +---+              +---++---++---+\n",
    "|   ||   |     |   |   -->        |   ||   ||   |\n",
    "+---++---+     +---+              +---++---++---+\n",
    "+---++---++---++---+         +---++---++---++---+\n",
    "|   ||   ||   ||   |         |   ||   ||   ||   |\n",
    "+---++---++---++---+         +---++---++---++---+\n",
    "\n",
    "Given the initial configuration of the cubes in the box, find out how many cubes are in each of the n columns after Bob switches the gravity.\n",
    "\n",
    "Examples (input -> output:\n",
    "* 'R', [3, 2, 1, 2]      ->  [1, 2, 2, 3]\n",
    "* 'L', [1, 4, 5, 3, 5 ]  ->  [5, 5, 4, 3, 1]"
   ]
  },
  {
   "cell_type": "code",
   "execution_count": null,
   "id": "d4724e3d-7ce0-4d62-abd0-27de014c9cc1",
   "metadata": {},
   "outputs": [],
   "source": [
    "def flip(d, a):\n",
    "    ab=sorted(a)\n",
    "    abn=sorted(a,reverse=True)\n",
    "    if d==\"R\":\n",
    "        return ab\n",
    "    else:\n",
    "        return abn"
   ]
  }
 ],
 "metadata": {
  "kernelspec": {
   "display_name": "Python 3 (ipykernel)",
   "language": "python",
   "name": "python3"
  },
  "language_info": {
   "codemirror_mode": {
    "name": "ipython",
    "version": 3
   },
   "file_extension": ".py",
   "mimetype": "text/x-python",
   "name": "python",
   "nbconvert_exporter": "python",
   "pygments_lexer": "ipython3",
   "version": "3.12.4"
  }
 },
 "nbformat": 4,
 "nbformat_minor": 5
}
