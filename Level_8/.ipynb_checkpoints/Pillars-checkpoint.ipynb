{
 "cells": [
  {
   "cell_type": "markdown",
   "id": "7c12f7e1-f6c6-4c03-9524-11bbae1cfb53",
   "metadata": {},
   "source": [
    "There are pillars near the road. The distance between the pillars is the same and the width of the pillars is the same. Your function accepts three arguments:\n",
    "\n",
    "1. Number of pillars (≥ 1);\n",
    "2. Distance between pillars (10 - 30 meters);\n",
    "3. Width of the pillar (10 - 50 centimeters).\n",
    "Calculate the distance between the first and the last pillar in centimeters (without the width of the first and last pillar)."
   ]
  },
  {
   "cell_type": "code",
   "execution_count": null,
   "id": "af57a688-e49f-45ca-bcb1-956518b3a25a",
   "metadata": {},
   "outputs": [],
   "source": [
    "def pillars(n, dist, width):\n",
    "    if n>1:\n",
    "        return (((n-2)*width)+(dist*100*(n-1)))\n",
    "    else:\n",
    "        return 0"
   ]
  }
 ],
 "metadata": {
  "kernelspec": {
   "display_name": "Python 3 (ipykernel)",
   "language": "python",
   "name": "python3"
  },
  "language_info": {
   "codemirror_mode": {
    "name": "ipython",
    "version": 3
   },
   "file_extension": ".py",
   "mimetype": "text/x-python",
   "name": "python",
   "nbconvert_exporter": "python",
   "pygments_lexer": "ipython3",
   "version": "3.12.4"
  }
 },
 "nbformat": 4,
 "nbformat_minor": 5
}
