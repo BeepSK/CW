{
 "cells": [
  {
   "cell_type": "markdown",
   "id": "26e04072-2035-4274-a95c-72c1bf8cda63",
   "metadata": {},
   "source": [
    "Given a point in a Euclidean plane (x and y), return the quadrant the point exists in: 1, 2, 3 or 4 (integer). x and y are non-zero integers, therefore the given point never lies on the axes."
   ]
  },
  {
   "cell_type": "code",
   "execution_count": null,
   "id": "5f53509a-66c8-46e0-b608-545bbcfee1df",
   "metadata": {},
   "outputs": [],
   "source": [
    "def quadrant(x, y):\n",
    "    if x > 0 and y > 0:\n",
    "        return 1\n",
    "    elif x < 0 and y < 0:\n",
    "        return 3\n",
    "    elif x > 0 and y < 0:\n",
    "        return 4\n",
    "    else:\n",
    "        return 2"
   ]
  }
 ],
 "metadata": {
  "kernelspec": {
   "display_name": "Python 3 (ipykernel)",
   "language": "python",
   "name": "python3"
  },
  "language_info": {
   "codemirror_mode": {
    "name": "ipython",
    "version": 3
   },
   "file_extension": ".py",
   "mimetype": "text/x-python",
   "name": "python",
   "nbconvert_exporter": "python",
   "pygments_lexer": "ipython3",
   "version": "3.12.4"
  }
 },
 "nbformat": 4,
 "nbformat_minor": 5
}
