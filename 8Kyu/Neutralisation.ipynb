{
 "cells": [
  {
   "cell_type": "markdown",
   "id": "6e8f0908-b7a4-45b6-9e08-72e90b89854a",
   "metadata": {},
   "source": [
    "Given two strings comprised of + and -, return a new string which shows how the two strings interact in the following way:\n",
    "\n",
    "When positives and positives interact, they remain positive.\n",
    "When negatives and negatives interact, they remain negative.\n",
    "But when negatives and positives interact, they become neutral, and are shown as the number 0."
   ]
  },
  {
   "cell_type": "code",
   "execution_count": null,
   "id": "5a8b3b1d-8057-4f85-83cb-bcc412e9c153",
   "metadata": {},
   "outputs": [],
   "source": [
    "def neutralise(s1, s2):\n",
    "    result=[]\n",
    "    for i1, i2 in zip(s1, s2):\n",
    "        if i1==\"+\" and i2==\"+\":\n",
    "            result.append(\"+\")\n",
    "        elif i1==\"-\" and i2==\"-\":\n",
    "            result.append(\"-\")\n",
    "        elif i1==\"+\" and i2==\"-\" or i1==\"-\" and i2==\"+\":\n",
    "            result.append(\"0\")\n",
    "        else:\n",
    "            result.append(\"0\")\n",
    "    return ''.join(result)"
   ]
  }
 ],
 "metadata": {
  "kernelspec": {
   "display_name": "Python 3 (ipykernel)",
   "language": "python",
   "name": "python3"
  },
  "language_info": {
   "codemirror_mode": {
    "name": "ipython",
    "version": 3
   },
   "file_extension": ".py",
   "mimetype": "text/x-python",
   "name": "python",
   "nbconvert_exporter": "python",
   "pygments_lexer": "ipython3",
   "version": "3.12.4"
  }
 },
 "nbformat": 4,
 "nbformat_minor": 5
}
