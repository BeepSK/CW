{
 "cells": [
  {
   "cell_type": "raw",
   "id": "2fe520e4-ee6b-4e8a-bdb0-69af4763f38d",
   "metadata": {},
   "source": [
    "There are pillars near the road. The distance between the pillars is the same and the width of the pillars is the same. Your function accepts three arguments:\n",
    "\n",
    "number of pillars (≥ 1);\n",
    "distance between pillars (10 - 30 meters);\n",
    "width of the pillar (10 - 50 centimeters).\n",
    "Calculate the distance between the first and the last pillar in centimeters (without the width of the first and last pillar)."
   ]
  },
  {
   "cell_type": "code",
   "execution_count": null,
   "id": "57efac56-a05c-4910-81ca-e8db0b72feee",
   "metadata": {},
   "outputs": [],
   "source": [
    "def pillars(n, dist, width):\n",
    "    if n>1:\n",
    "        return (((n-2)*width)+(dist*100*(n-1)))\n",
    "    else:\n",
    "        return 0"
   ]
  }
 ],
 "metadata": {
  "kernelspec": {
   "display_name": "Python 3 (ipykernel)",
   "language": "python",
   "name": "python3"
  },
  "language_info": {
   "codemirror_mode": {
    "name": "ipython",
    "version": 3
   },
   "file_extension": ".py",
   "mimetype": "text/x-python",
   "name": "python",
   "nbconvert_exporter": "python",
   "pygments_lexer": "ipython3",
   "version": "3.12.4"
  }
 },
 "nbformat": 4,
 "nbformat_minor": 5
}
